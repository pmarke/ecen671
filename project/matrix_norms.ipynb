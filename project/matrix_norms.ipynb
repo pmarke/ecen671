{
 "cells": [
  {
   "cell_type": "markdown",
   "metadata": {},
   "source": [
    "# Matrix Norms\n",
    "\n",
    "Author: * Mark Petersen *"
   ]
  },
  {
   "cell_type": "markdown",
   "metadata": {},
   "source": [
    "## Introduction\n",
    "\n",
    "This notebook will follow section 4.2 *Operator norms* in *Mathematical Methods and Algorithms for Signal Processing* by Todd K. Moon.\n",
    "\n",
    "Operator Before learning about matrix norms, it is beneficial to look at the definition of a linear operator norm. We will then use this definition to analyze the geometry and boundedness of an operator norm. Then we will look at matrix norms and finish with an example.  \n"
   ]
  },
  {
   "cell_type": "markdown",
   "metadata": {},
   "source": [
    "## Operator Norms\n",
    "\n",
    "There are many ways of defining this norm, and one way to think about it is how much the operator will change the length of the vector it operates on. Let $X$ and $Y$ be $l_p$ or $L_p$, and let $A$ be a linear operator $A:X \\rightarrow Y$. The $p$ **operator norm**, or $p$ norm, or $l_p$ norm, of $A$ is\n",
    "\n",
    "$$ ||A||_p = \\sup_{x \\in X, \\neq 0} \\frac{||Ax||_p}{||x||_p} = \\sup_{x \\in X, ||x||_p=1} ||Ax||_p$$\n",
    "\n",
    "where $|| \\cdot ||_p$ is the $p$ norm. "
   ]
  },
  {
   "cell_type": "markdown",
   "metadata": {},
   "source": [
    "### Geometric Representation\n",
    "\n",
    "A good way to visually look at how an operator norm changes the lengh of a vector is to look at how the subordinate matrix norm $||A||$ changes the unit circle. \n",
    "\n",
    "Let $x \\in X , ||x|| = 1$ and $A \\in R^{2x2}$ then $||A|| = \\max y$ where $y \\in Y, y = Ax$"
   ]
  },
  {
   "cell_type": "code",
   "execution_count": 1,
   "metadata": {},
   "outputs": [
    {
     "data": {
      "image/png": "[encoded data removed]",
      "text/plain": [
       "<Figure size 432x288 with 2 Axes>"
      ]
     },
     "metadata": {},
     "output_type": "display_data"
    }
   ],
   "source": [
    "import numpy as np\n",
    "import matplotlib.pyplot as plt\n",
    "%matplotlib inline\n",
    "\n",
    "def visualize(A = np.matrix([[2,0],[0,0.5]]), norm_type = 2):\n",
    "\n",
    "    # Construct x s.t. ||x||_1 = 1\n",
    "    if norm_type == 1:\n",
    "        num_points = 5\n",
    "        x1 = np.concatenate((np.linspace(0,1,num_points),np.linspace(1,0,num_points),\n",
    "                        np.linspace(0,-1,num_points), np.linspace(-1,0,num_points)))\n",
    "        x2 = np.concatenate((np.linspace(-1,0,num_points),np.linspace(0,1,num_points),\n",
    "                             np.linspace(1,0,num_points),np.linspace(0,-1,num_points)))\n",
    "        x = np.vstack([x1,x2])\n",
    "    \n",
    "    # Construct x s.t. ||x||_2 = 1\n",
    "    elif norm_type == 2:\n",
    "        angle = np.linspace(-np.pi, np.pi,20)\n",
    "        x = np.vstack([np.sin(angle),np.cos(angle)])\n",
    "    else:\n",
    "        num_points = 5\n",
    "        x1 = np.concatenate((np.linspace(-1,1,num_points),np.linspace(1,1,num_points),\n",
    "                        np.linspace(1,-1,num_points), np.linspace(-1,-1,num_points)))\n",
    "        x2 = np.concatenate((np.linspace(-1,-1,num_points),np.linspace(-1,1,num_points),\n",
    "                             np.linspace(1,1,num_points),np.linspace(1,-1,num_points)))\n",
    "        x = np.vstack([x1,x2]) \n",
    "    \n",
    "    \n",
    "\n",
    "\n",
    "    # Compute y\n",
    "    y = A*x\n",
    "\n",
    "\n",
    "    # Get maximum x and y axis values for plotting\n",
    "    x_max = max(abs(np.concatenate((x[0,:],np.array(y[0,:]).reshape(-1,)) ) ))\n",
    "    y_max = max(abs(np.concatenate((x[1,:],np.array(y[1,:]).reshape(-1,)))))\n",
    "    dim_max = x_max if x_max > y_max else y_max\n",
    "    dim_max += 0.1\n",
    "    \n",
    "    # Plot results\n",
    "\n",
    "    plt.figure(1)\n",
    "    plt.subplot(131,aspect='equal')\n",
    "    plt.plot(x[0,:],x[1,:])\n",
    "    plt.ylim([-dim_max,dim_max])\n",
    "    plt.xlim([-dim_max,dim_max])\n",
    "    plt.xlabel('$x_1$')\n",
    "    plt.ylabel('$x_2$')\n",
    "    plt.title('x')\n",
    "\n",
    "    plt.subplot(133,aspect='equal')\n",
    "    plt.plot(np.array(y[0,:]).reshape(-1,),np.array(y[1,:]).reshape(-1,))\n",
    "    plt.ylim([-dim_max,dim_max])\n",
    "    plt.xlim([-dim_max,dim_max])\n",
    "    plt.xlabel('$y_1$')\n",
    "    plt.ylabel('$y_2$')\n",
    "    plt.title('y=Ax')\n",
    "\n",
    "visualize(norm_type = 2)"
   ]
  },
  {
   "cell_type": "markdown",
   "metadata": {},
   "source": [
    "By visual inspection of the plots above, we can see how $||A||$ stretches the elements of $X$ when mapping them to $Y$. In this example $||A|| = 2$"
   ]
  },
  {
   "cell_type": "markdown",
   "metadata": {},
   "source": [
    "### Bounded operators\n",
    "\n",
    "The norm of an operator can be used to determine if a linear transformation is bounded, i.e. $A$ will map finite values in $X$ to finite values in $Y$. \n",
    "\n",
    "**Definition 4.3** If the norm of a transformation is finite, the transformation is said to be *bounded*. \n",
    "\n",
    "Using example 4.2.2 from the book.\n",
    "\n",
    "Let $A:C^1[0,1] \\rightarrow C[0,1]$ be the operator\n",
    "\n",
    "$$ Ax = \\frac{d}{dt}x $$\n",
    "\n",
    "The function $x(t) = \\sin(w_0t) \\in C^1[0,1]$ has uniform norm 1 for any value of $w_0$, but\n",
    "\n",
    "$$||Ax|| = \\max_{t \\in [0,1]} w_0|\\cos w_0t|$$\n",
    "\n",
    "may have norm arbitrarily large by choosing $w_0$ to be arbitrarily large. Thus the operator $A$ is not bounded. "
   ]
  },
  {
   "cell_type": "code",
   "execution_count": 2,
   "metadata": {
    "scrolled": true
   },
   "outputs": [
    {
     "name": "stderr",
     "output_type": "stream",
     "text": [
      "Widget Javascript not detected.  It may not be installed or enabled properly.\n"
     ]
    },
    {
     "data": {
      "application/vnd.jupyter.widget-view+json": {
       "model_id": "5da3330656444204bb76a679a7d920c7"
      }
     },
     "metadata": {},
     "output_type": "display_data"
    },
    {
     "data": {
      "text/plain": [
       "<function __main__.update>"
      ]
     },
     "execution_count": 2,
     "metadata": {},
     "output_type": "execute_result"
    },
    {
     "data": {
      "image/png": "[encoded data removed]",
      "text/plain": [
       "<Figure size 432x288 with 1 Axes>"
      ]
     },
     "metadata": {},
     "output_type": "display_data"
    }
   ],
   "source": [
    "from ipywidgets import *\n",
    "\n",
    "fig = plt.figure()\n",
    "\n",
    "# Create x(t)\n",
    "dt = 0.001\n",
    "t = np.arange(0.0, 1.0, dt)\n",
    "w_0 = 10;\n",
    "x = np.sin(w_0*t)\n",
    "\n",
    "# Create Ax(t)\n",
    "y = w_0*np.cos(w_0*t)\n",
    "l, = plt.plot(t, y, lw=2, color='red')\n",
    "\n",
    "def update(w_0 = 10):\n",
    "    l.set_ydata( w_0*np.cos(w_0*t))\n",
    "    plt.axis(ymax=w_0, ymin=-w_0)\n",
    "    fig.canvas.draw()\n",
    "    \n",
    "\n",
    "interact(update, w_0 = widgets.IntSlider(min=10,max=1000,step=10,value=10))"
   ]
  },
  {
   "cell_type": "markdown",
   "metadata": {},
   "source": [
    "By moving the slider in the above figure, you can see as $w_0 \\rightarrow \\infty, ||Ax|| \\rightarrow \\infty$ while $x$ stays finite between $0$ and $1$. Thus the norm of the operator is not bounded for every finite value of $x$. The example at the end will show the importance of boundedness. "
   ]
  },
  {
   "cell_type": "markdown",
   "metadata": {},
   "source": [
    "### Submultiplicative Property\n",
    "\n",
    "Let $X$ and $Y$ be $l_p$ or $L_p$, and let $A$ and $B$ be linear operators. The $p$ norm has the property for all $x \\in X$ that \n",
    "$$||Ax||_p \\leq ||A||_p||x||_p$$\n",
    "\n",
    "Also, the $p$ norm satisfies the submultiplicative property\n",
    "$$||AB||_p \\leq ||A||_p||B||_p$$\n",
    "\n",
    "From the previous equations we can deduce\n",
    "$$||ABx||_p \\leq ||A||_p||B||_p||x||_p$$"
   ]
  },
  {
   "cell_type": "markdown",
   "metadata": {},
   "source": [
    "## Matrix Norms\n",
    "So far we have generalized our study to any linear operator. The rest of this notebook will specialize on the matrix $p=1$, $p=2$, $p=\\infty$ norms and the Frobenius norm. \n",
    "\n",
    "We will start by creating a basic, python, matrix class and add to it as different matrix norms are introduced."
   ]
  },
  {
   "cell_type": "code",
   "execution_count": 3,
   "metadata": {},
   "outputs": [],
   "source": [
    "class Matrix:\n",
    "    def __init__(self,A=np.eye(3)):\n",
    "        self.A = A"
   ]
  },
  {
   "cell_type": "markdown",
   "metadata": {},
   "source": [
    "### Norm $p=\\infty$\n",
    "\n",
    "Let $A \\in \\mathbb{C}^{nxm}$, $\\mathbf{y} \\in \\mathbb{C}^n$ and $\\mathbf{x} \\in \\mathbb{C}^m$ the infinity norm is defined as\n",
    "$$||A||_{\\infty} = \\max_{||\\mathbf{x}||_{\\infty}=1} ||A\\mathbf{x}||_{\\infty} = \\max_{i}\\sum_{j}|a_{ij}|$$\n",
    "which is the largest row sum. This is saying that the largets element of $\\mathbf{y}$ is composed of the largest row of $A$"
   ]
  },
  {
   "cell_type": "code",
   "execution_count": 4,
   "metadata": {},
   "outputs": [],
   "source": [
    "class Matrix(Matrix):\n",
    "    def pInfNorm(self):\n",
    "        dim = self.A.shape\n",
    "        \n",
    "        pInf_max = 0\n",
    "        \n",
    "        # Find the abs, max, row sum\n",
    "        for i in range(dim[0]):\n",
    "            r_sum = np.sum(abs(self.A[i,:]))\n",
    "            if r_sum > pInf_max:\n",
    "                pInf_max = r_sum\n",
    "        return pInf_max\n",
    "            "
   ]
  },
  {
   "cell_type": "code",
   "execution_count": 5,
   "metadata": {},
   "outputs": [
    {
     "name": "stdout",
     "output_type": "stream",
     "text": [
      "Infinity Norm: 6\n"
     ]
    },
    {
     "data": {
      "image/png": "[encoded data removed]",
      "text/plain": [
       "<Figure size 432x288 with 2 Axes>"
      ]
     },
     "metadata": {},
     "output_type": "display_data"
    }
   ],
   "source": [
    "M = np.matrix([[4,2],[0,5]])\n",
    "m = Matrix(M)\n",
    "print(\"Infinity Norm:\", m.pInfNorm())\n",
    "\n",
    "visualize(m.A, norm_type=3)"
   ]
  },
  {
   "cell_type": "markdown",
   "metadata": {},
   "source": [
    "By inspecting the above images, you can see that the infinity norm indicates how much $A$ stretches $\\mathbf{x}$ along the axes of $\\mathbf{y}$"
   ]
  },
  {
   "cell_type": "markdown",
   "metadata": {},
   "source": [
    "### Norm $p=1$\n",
    "\n",
    "The $p=1$ norm is defined as\n",
    "$$||A||_1 = \\max_{||\\mathbf{x}||_{1}=1} ||A\\mathbf{x}||_{1} = \\max_{j}\\sum_{i}|a_{ij}|$$\n",
    "which is the largest column sum."
   ]
  },
  {
   "cell_type": "code",
   "execution_count": 6,
   "metadata": {},
   "outputs": [],
   "source": [
    "class Matrix(Matrix):\n",
    "    def pOneNorm(self):\n",
    "        dim = self.A.shape\n",
    "        \n",
    "        pOne_max = 0\n",
    "        \n",
    "        # Find the abs, max, row sum\n",
    "        for i in range(dim[1]):\n",
    "            c_sum = np.sum(abs(self.A[:,i]))\n",
    "            if c_sum > pOne_max:\n",
    "                pOne_max = c_sum\n",
    "        return pOne_max"
   ]
  },
  {
   "cell_type": "code",
   "execution_count": 7,
   "metadata": {},
   "outputs": [
    {
     "name": "stdout",
     "output_type": "stream",
     "text": [
      "norm p=1: 7\n"
     ]
    },
    {
     "data": {
      "image/png": "[encoded data removed]",
      "text/plain": [
       "<Figure size 432x288 with 2 Axes>"
      ]
     },
     "metadata": {},
     "output_type": "display_data"
    }
   ],
   "source": [
    "M = np.matrix([[4,2],[0,5]])\n",
    "m = Matrix(M)\n",
    "print(\"norm p=1:\", m.pOneNorm())\n",
    "\n",
    "visualize(m.A, norm_type=1)"
   ]
  },
  {
   "cell_type": "markdown",
   "metadata": {},
   "source": [
    "### Norm $p=2$"
   ]
  },
  {
   "cell_type": "markdown",
   "metadata": {},
   "source": [
    "The $p=2$ norm is defined as \n",
    "\n",
    "$$||A||_2 = \\sqrt{\\rho(A^HA)}$$\n",
    "\n",
    "where\n",
    "\n",
    "$$\\rho(A) = \\max_i |\\lambda_i|$$\n",
    "\n",
    "i.e. the square-root of the larget eigenvalue of $A^HA$.\n",
    "\n",
    "Note * The book goes through the derivation of this norm using optimization and pinciples of eigenvalue that has not yet been covered, so I will skip the derivation of it. "
   ]
  },
  {
   "cell_type": "code",
   "execution_count": 8,
   "metadata": {},
   "outputs": [],
   "source": [
    "class Matrix(Matrix):\n",
    "    def pTwoNorm(self):\n",
    "        \n",
    "        # Compose A^HA\n",
    "        B = self.A.getH()*self.A\n",
    "        \n",
    "        # Find the eigen values\n",
    "        w,v = np.linalg.eig(B)\n",
    "        \n",
    "        # get the square root of the largest eigen value\n",
    "        rho = np.sqrt(w.max())\n",
    "        \n",
    "        return rho"
   ]
  },
  {
   "cell_type": "code",
   "execution_count": 9,
   "metadata": {},
   "outputs": [
    {
     "name": "stdout",
     "output_type": "stream",
     "text": [
      "norm p=2: 5.727806217396338\n"
     ]
    },
    {
     "data": {
      "image/png": "[encoded data removed]",
      "text/plain": [
       "<Figure size 432x288 with 2 Axes>"
      ]
     },
     "metadata": {},
     "output_type": "display_data"
    }
   ],
   "source": [
    "M = np.matrix([[4,2],[0,5]])\n",
    "m = Matrix(M)\n",
    "print(\"norm p=2:\", m.pTwoNorm())\n",
    "\n",
    "visualize(m.A, norm_type=2)"
   ]
  },
  {
   "cell_type": "markdown",
   "metadata": {},
   "source": [
    "The above figures show how much the unit circle stretches along the eigenvectors of $A$"
   ]
  },
  {
   "cell_type": "markdown",
   "metadata": {},
   "source": [
    "### Frobenius Norm\n",
    "\n",
    "The Frobenius Norm is not a $p$ norm and it doesn't satisfy the submultiplicative property. This norm is often used in matrix analysis since it is relatively easy to compute. It is defined as\n",
    "\n",
    "$$||A||_F = \\sqrt{\\mathrm{tr}(A^HA)}$$\n",
    "\n",
    "i.e. the square root of the sum of all of the elements of $A$ squared."
   ]
  },
  {
   "cell_type": "code",
   "execution_count": 10,
   "metadata": {},
   "outputs": [],
   "source": [
    "class Matrix(Matrix):\n",
    "    def frobNorm(self):\n",
    "            \n",
    "        # Square all of the elements of A\n",
    "        A_2 = np.square(self.A)\n",
    "        \n",
    "        # Sum all of the elemenst of A\n",
    "        f_sum = np.sum(A_2)\n",
    "        \n",
    "        # Square root the sum of all of the elements of A squared\n",
    "        f_norm = np.sqrt(f_sum)\n",
    "        \n",
    "        return f_norm"
   ]
  },
  {
   "cell_type": "code",
   "execution_count": 11,
   "metadata": {},
   "outputs": [
    {
     "name": "stdout",
     "output_type": "stream",
     "text": [
      "norm p=2: 6.708203932499369\n"
     ]
    }
   ],
   "source": [
    "M = np.matrix([[4,2],[0,5]])\n",
    "m = Matrix(M)\n",
    "print(\"norm p=2:\", m.frobNorm())"
   ]
  },
  {
   "cell_type": "markdown",
   "metadata": {},
   "source": [
    "The Frobenius norm is often used when comparing how similar two matrices $A$ and $B$ are, using $||A-B||_F$."
   ]
  },
  {
   "cell_type": "markdown",
   "metadata": {},
   "source": [
    "## Matrix Norm Relationships\n",
    "\n",
    "The follow relationships exist between the norms for an $m\\times n$ matrix $A$\n",
    "\n",
    "$$\n",
    "\\begin{array}{rcl} \n",
    "||A||_c                          & \\leq ||A||_F & \\leq \\sqrt{n}||A||_2 \\\\ \n",
    "\\max_{i,j}|a_{ij}|               & \\leq ||A||_2 & \\leq \\sqrt{mn}\\max_{i,j}|a_{ij}| \\\\\n",
    "\\frac{1}{\\sqrt{n}}||A||_{\\infty} & \\leq ||A||_2 & \\leq \\sqrt{m}||A||_{\\infty} \\\\\n",
    " \\frac{1}{\\sqrt{m}}||A||_{1}     & \\leq ||A||_2 & \\leq \\sqrt{n}||A||_{1} \n",
    "\\end{array}\n",
    "$$"
   ]
  },
  {
   "cell_type": "markdown",
   "metadata": {},
   "source": [
    "## Example Problem\n",
    "\n",
    "![title](massSpring.png)\n",
    "\n",
    "Consider a second order mass spring system\n",
    "\n",
    "$$ m\\ddot{x} + b\\dot{x} + kx = F $$\n",
    "\n",
    "where $m$ is the mass, $b$ is the damping coefficient, $k$ is the spring constant, $F$ the force being applied, $x$ the displacement of the mass from equilibrium.\n",
    "\n",
    "The state space representation of the system can be expressed as \n",
    "\n",
    "$$ \\dot{x} = Ax + Bu $$ \n",
    "\n",
    "where $A$ represents the internal dynamics of the system, $B$ represents the external dynamics of the system, $x$ represents the position and velosity of the mass, and $u$ represents the input. If we ignore the external dynamics of the system, the state space representation of the system can be expressed as\n",
    "\n",
    "$$ \\dot{x} = Ax$$\n",
    "\n",
    "where\n",
    "\n",
    "$$A=\n",
    "\\begin{bmatrix}\n",
    "    1       & 1  \\\\\n",
    "    -k/m       & -b/m     \n",
    "\\end{bmatrix}\n",
    "$$\n",
    "\n",
    "The solution to the second order system is \n",
    "\n",
    "$$x(t) = \\exp^{-A t}x_0$$\n",
    "\n",
    "by inspection, we can analyze $A$ to determine the rate of decay or how fast the perturbed system returns to equilibrium by analyzing the norm of $A$. The larger $||A||$ is, the faster the system returns to equilibrium. In essence, ||A|| measures how fast a system can change. \n",
    "\n",
    "\n"
   ]
  },
  {
   "cell_type": "code",
   "execution_count": 46,
   "metadata": {},
   "outputs": [
    {
     "data": {
      "text/plain": [
       "[<matplotlib.lines.Line2D at 0x7fdbef650780>]"
      ]
     },
     "execution_count": 46,
     "metadata": {},
     "output_type": "execute_result"
    },
    {
     "data": {
      "image/png": "[encoded data removed]",
      "text/plain": [
       "<Figure size 432x288 with 1 Axes>"
      ]
     },
     "metadata": {},
     "output_type": "display_data"
    }
   ],
   "source": [
    "from scipy.linalg import expm\n",
    "\n",
    "k = 10\n",
    "m = 1\n",
    "b = 5\n",
    "\n",
    "A = np.matrix([[1,1],[-k/m,-b/m]])\n",
    "\n",
    "# Create x(t)\n",
    "dt = 0.001\n",
    "t_end = 5\n",
    "\n",
    "\n",
    "x_0 = np.matrix([[10],[0]])\n",
    "\n",
    "x = []\n",
    "x_dt = []\n",
    "\n",
    "for t in np.arange(0.0, t_end, dt):\n",
    "    x_t = expm(A*t)*x_0\n",
    "    x.append(x_t[0,0].item())\n",
    "    x_dt.append(x_t[1,0].item())\n",
    "    \n",
    "\n",
    "# Plot results\n",
    "t = np.arange(0.0,t_end,dt)\n",
    "\n",
    "plt.plot(t,x)\n",
    "    \n",
    "    "
   ]
  },
  {
   "cell_type": "code",
   "execution_count": null,
   "metadata": {},
   "outputs": [],
   "source": []
  },
  {
   "cell_type": "code",
   "execution_count": null,
   "metadata": {},
   "outputs": [],
   "source": []
  }
 ],
 "metadata": {
  "kernelspec": {
   "display_name": "Python 3",
   "language": "python",
   "name": "python3"
  },
  "language_info": {
   "codemirror_mode": {
    "name": "ipython",
    "version": 3
   },
   "file_extension": ".py",
   "mimetype": "text/x-python",
   "name": "python",
   "nbconvert_exporter": "python",
   "pygments_lexer": "ipython3",
   "version": "3.5.2"
  }
 },
 "nbformat": 4,
 "nbformat_minor": 2
}
